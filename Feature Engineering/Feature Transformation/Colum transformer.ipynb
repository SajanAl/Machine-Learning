{
 "cells": [
  {
   "cell_type": "code",
   "execution_count": 1,
   "id": "36a52250",
   "metadata": {},
   "outputs": [],
   "source": [
    "import pandas as pd\n",
    "import numpy as np\n",
    "from sklearn.model_selection import train_test_split"
   ]
  },
  {
   "cell_type": "code",
   "execution_count": 2,
   "id": "4974dd8f",
   "metadata": {},
   "outputs": [],
   "source": [
    "df=pd.read_csv('D:/Data/covid_toy.csv')"
   ]
  },
  {
   "cell_type": "code",
   "execution_count": 3,
   "id": "5823a574",
   "metadata": {},
   "outputs": [
    {
     "data": {
      "text/html": [
       "<div>\n",
       "<style scoped>\n",
       "    .dataframe tbody tr th:only-of-type {\n",
       "        vertical-align: middle;\n",
       "    }\n",
       "\n",
       "    .dataframe tbody tr th {\n",
       "        vertical-align: top;\n",
       "    }\n",
       "\n",
       "    .dataframe thead th {\n",
       "        text-align: right;\n",
       "    }\n",
       "</style>\n",
       "<table border=\"1\" class=\"dataframe\">\n",
       "  <thead>\n",
       "    <tr style=\"text-align: right;\">\n",
       "      <th></th>\n",
       "      <th>age</th>\n",
       "      <th>gender</th>\n",
       "      <th>fever</th>\n",
       "      <th>cough</th>\n",
       "      <th>city</th>\n",
       "      <th>has_covid</th>\n",
       "    </tr>\n",
       "  </thead>\n",
       "  <tbody>\n",
       "    <tr>\n",
       "      <th>0</th>\n",
       "      <td>60</td>\n",
       "      <td>Male</td>\n",
       "      <td>103.0</td>\n",
       "      <td>Mild</td>\n",
       "      <td>Kolkata</td>\n",
       "      <td>No</td>\n",
       "    </tr>\n",
       "    <tr>\n",
       "      <th>1</th>\n",
       "      <td>27</td>\n",
       "      <td>Male</td>\n",
       "      <td>100.0</td>\n",
       "      <td>Mild</td>\n",
       "      <td>Delhi</td>\n",
       "      <td>Yes</td>\n",
       "    </tr>\n",
       "    <tr>\n",
       "      <th>2</th>\n",
       "      <td>42</td>\n",
       "      <td>Male</td>\n",
       "      <td>101.0</td>\n",
       "      <td>Mild</td>\n",
       "      <td>Delhi</td>\n",
       "      <td>No</td>\n",
       "    </tr>\n",
       "    <tr>\n",
       "      <th>3</th>\n",
       "      <td>31</td>\n",
       "      <td>Female</td>\n",
       "      <td>98.0</td>\n",
       "      <td>Mild</td>\n",
       "      <td>Kolkata</td>\n",
       "      <td>No</td>\n",
       "    </tr>\n",
       "    <tr>\n",
       "      <th>4</th>\n",
       "      <td>65</td>\n",
       "      <td>Female</td>\n",
       "      <td>101.0</td>\n",
       "      <td>Mild</td>\n",
       "      <td>Mumbai</td>\n",
       "      <td>No</td>\n",
       "    </tr>\n",
       "  </tbody>\n",
       "</table>\n",
       "</div>"
      ],
      "text/plain": [
       "   age  gender  fever cough     city has_covid\n",
       "0   60    Male  103.0  Mild  Kolkata        No\n",
       "1   27    Male  100.0  Mild    Delhi       Yes\n",
       "2   42    Male  101.0  Mild    Delhi        No\n",
       "3   31  Female   98.0  Mild  Kolkata        No\n",
       "4   65  Female  101.0  Mild   Mumbai        No"
      ]
     },
     "execution_count": 3,
     "metadata": {},
     "output_type": "execute_result"
    }
   ],
   "source": [
    "df.head()"
   ]
  },
  {
   "cell_type": "code",
   "execution_count": 4,
   "id": "157f24bb",
   "metadata": {},
   "outputs": [
    {
     "data": {
      "text/plain": [
       "Mild      62\n",
       "Strong    38\n",
       "Name: cough, dtype: int64"
      ]
     },
     "execution_count": 4,
     "metadata": {},
     "output_type": "execute_result"
    }
   ],
   "source": [
    "df['cough'].value_counts()"
   ]
  },
  {
   "cell_type": "code",
   "execution_count": 5,
   "id": "650206fb",
   "metadata": {},
   "outputs": [],
   "source": [
    "from sklearn.impute import SimpleImputer\n",
    "from sklearn.preprocessing import OrdinalEncoder,OneHotEncoder"
   ]
  },
  {
   "cell_type": "code",
   "execution_count": 6,
   "id": "b65d7400",
   "metadata": {},
   "outputs": [],
   "source": [
    "X=df.drop(['has_covid'],axis='columns')\n",
    "Y=df['has_covid']"
   ]
  },
  {
   "cell_type": "code",
   "execution_count": 7,
   "id": "c0011ec1",
   "metadata": {},
   "outputs": [],
   "source": [
    "X_train,X_test,Y_train,Y_test=train_test_split(X,Y,test_size=0.2,random_state=0)"
   ]
  },
  {
   "cell_type": "code",
   "execution_count": 8,
   "id": "9adc9a7c",
   "metadata": {},
   "outputs": [],
   "source": [
    "#cheking missing value"
   ]
  },
  {
   "cell_type": "code",
   "execution_count": 9,
   "id": "14cd464d",
   "metadata": {},
   "outputs": [
    {
     "data": {
      "text/plain": [
       "age           0\n",
       "gender        0\n",
       "fever        10\n",
       "cough         0\n",
       "city          0\n",
       "has_covid     0\n",
       "dtype: int64"
      ]
     },
     "execution_count": 9,
     "metadata": {},
     "output_type": "execute_result"
    }
   ],
   "source": [
    "df.isnull().sum()"
   ]
  },
  {
   "cell_type": "code",
   "execution_count": 10,
   "id": "64735eb3",
   "metadata": {},
   "outputs": [],
   "source": [
    "si=SimpleImputer()"
   ]
  },
  {
   "cell_type": "code",
   "execution_count": 11,
   "id": "8682653c",
   "metadata": {},
   "outputs": [],
   "source": [
    "X_train_fever=si.fit_transform(X_train[['fever']])\n",
    "X_test_fever=si.fit_transform(X_test[['fever']])"
   ]
  },
  {
   "cell_type": "code",
   "execution_count": 12,
   "id": "3c8488fb",
   "metadata": {},
   "outputs": [
    {
     "data": {
      "text/plain": [
       "(80, 1)"
      ]
     },
     "execution_count": 12,
     "metadata": {},
     "output_type": "execute_result"
    }
   ],
   "source": [
    "X_train_fever.shape"
   ]
  },
  {
   "cell_type": "code",
   "execution_count": 13,
   "id": "7072ef96",
   "metadata": {},
   "outputs": [],
   "source": [
    "#Ordinal Encoding in cough colum"
   ]
  },
  {
   "cell_type": "code",
   "execution_count": 14,
   "id": "dfd2596b",
   "metadata": {},
   "outputs": [],
   "source": [
    "oe=OrdinalEncoder(categories=[['Mild','Strong']])"
   ]
  },
  {
   "cell_type": "code",
   "execution_count": 15,
   "id": "9d74cf34",
   "metadata": {},
   "outputs": [],
   "source": [
    "X_train_cough=oe.fit_transform(X_train[['cough']])\n",
    "X_test_cough=oe.fit_transform(X_test[['cough']])"
   ]
  },
  {
   "cell_type": "code",
   "execution_count": 16,
   "id": "37970481",
   "metadata": {},
   "outputs": [
    {
     "data": {
      "text/plain": [
       "(80, 1)"
      ]
     },
     "execution_count": 16,
     "metadata": {},
     "output_type": "execute_result"
    }
   ],
   "source": [
    "X_train_cough.shape"
   ]
  },
  {
   "cell_type": "code",
   "execution_count": 17,
   "id": "7a76f84e",
   "metadata": {},
   "outputs": [],
   "source": [
    "# OneHotEncoding on gender and city"
   ]
  },
  {
   "cell_type": "code",
   "execution_count": 18,
   "id": "08c2ca2f",
   "metadata": {},
   "outputs": [],
   "source": [
    "ohe=OneHotEncoder(drop='first',sparse=False)"
   ]
  },
  {
   "cell_type": "code",
   "execution_count": 19,
   "id": "ac982d15",
   "metadata": {},
   "outputs": [],
   "source": [
    "X_train_gender_city=ohe.fit_transform(X_train[['gender','city']])\n",
    "X_test_gender_city=ohe.fit_transform(X_test[['gender','city']])"
   ]
  },
  {
   "cell_type": "code",
   "execution_count": 20,
   "id": "20a3f7f1",
   "metadata": {},
   "outputs": [
    {
     "data": {
      "text/plain": [
       "(80, 4)"
      ]
     },
     "execution_count": 20,
     "metadata": {},
     "output_type": "execute_result"
    }
   ],
   "source": [
    "X_train_gender_city.shape"
   ]
  },
  {
   "cell_type": "code",
   "execution_count": 21,
   "id": "4a22983b",
   "metadata": {},
   "outputs": [],
   "source": [
    "#Extrating colums"
   ]
  },
  {
   "cell_type": "code",
   "execution_count": 22,
   "id": "f9966aeb",
   "metadata": {},
   "outputs": [],
   "source": [
    "X_train_age=X_train.drop(columns=['gender','fever','cough','city']).values\n",
    "X_test_age=X_test.drop(columns=['gender','fever','cough','city']).values"
   ]
  },
  {
   "cell_type": "code",
   "execution_count": 23,
   "id": "c43f6a3c",
   "metadata": {},
   "outputs": [
    {
     "data": {
      "text/plain": [
       "array([[22],\n",
       "       [56],\n",
       "       [31],\n",
       "       [75],\n",
       "       [72],\n",
       "       [66],\n",
       "       [14],\n",
       "       [10],\n",
       "       [24],\n",
       "       [80],\n",
       "       [24],\n",
       "       [14],\n",
       "       [59],\n",
       "       [54],\n",
       "       [11],\n",
       "       [33],\n",
       "       [64],\n",
       "       [71],\n",
       "       [10],\n",
       "       [34],\n",
       "       [27],\n",
       "       [81],\n",
       "       [27],\n",
       "       [82],\n",
       "       [65],\n",
       "       [70],\n",
       "       [40],\n",
       "       [49],\n",
       "       [49],\n",
       "       [84],\n",
       "       [38],\n",
       "       [ 6],\n",
       "       [60],\n",
       "       [74],\n",
       "       [16],\n",
       "       [19],\n",
       "       [65],\n",
       "       [82],\n",
       "       [80],\n",
       "       [47],\n",
       "       [75],\n",
       "       [83],\n",
       "       [51],\n",
       "       [49],\n",
       "       [48],\n",
       "       [16],\n",
       "       [34],\n",
       "       [69],\n",
       "       [51],\n",
       "       [46],\n",
       "       [42],\n",
       "       [34],\n",
       "       [44],\n",
       "       [20],\n",
       "       [ 5],\n",
       "       [73],\n",
       "       [12],\n",
       "       [79],\n",
       "       [83],\n",
       "       [ 8],\n",
       "       [23],\n",
       "       [55],\n",
       "       [65],\n",
       "       [19],\n",
       "       [50],\n",
       "       [69],\n",
       "       [23],\n",
       "       [25],\n",
       "       [ 5],\n",
       "       [68],\n",
       "       [47],\n",
       "       [38],\n",
       "       [73],\n",
       "       [17],\n",
       "       [64],\n",
       "       [51],\n",
       "       [65],\n",
       "       [42],\n",
       "       [18],\n",
       "       [20]], dtype=int64)"
      ]
     },
     "execution_count": 23,
     "metadata": {},
     "output_type": "execute_result"
    }
   ],
   "source": [
    "X_train_age"
   ]
  },
  {
   "cell_type": "code",
   "execution_count": null,
   "id": "aa2d6299",
   "metadata": {},
   "outputs": [],
   "source": []
  },
  {
   "cell_type": "code",
   "execution_count": 23,
   "id": "6a4dd48c",
   "metadata": {},
   "outputs": [],
   "source": [
    "X_train_transformed=np.concatenate((X_train_age,X_train_fever,X_train_gender_city,X_train_cough),axis=1)"
   ]
  },
  {
   "cell_type": "code",
   "execution_count": 24,
   "id": "ebb7d5eb",
   "metadata": {},
   "outputs": [],
   "source": [
    "X_test_transformed = np.concatenate((X_test_age,X_test_fever,X_test_gender_city,X_test_cough),axis=1)"
   ]
  },
  {
   "cell_type": "code",
   "execution_count": 25,
   "id": "261d2706",
   "metadata": {},
   "outputs": [
    {
     "data": {
      "text/plain": [
       "(20, 7)"
      ]
     },
     "execution_count": 25,
     "metadata": {},
     "output_type": "execute_result"
    }
   ],
   "source": [
    "X_test_transformed.shape"
   ]
  },
  {
   "cell_type": "code",
   "execution_count": 26,
   "id": "465afa39",
   "metadata": {},
   "outputs": [
    {
     "data": {
      "text/plain": [
       "(80, 7)"
      ]
     },
     "execution_count": 26,
     "metadata": {},
     "output_type": "execute_result"
    }
   ],
   "source": [
    "X_train_transformed.shape"
   ]
  },
  {
   "cell_type": "code",
   "execution_count": 27,
   "id": "0b3cf55d",
   "metadata": {},
   "outputs": [],
   "source": [
    "# Now apply columns transformert module"
   ]
  },
  {
   "cell_type": "code",
   "execution_count": 28,
   "id": "cac9ba75",
   "metadata": {},
   "outputs": [],
   "source": [
    "from sklearn.compose import ColumnTransformer"
   ]
  },
  {
   "cell_type": "code",
   "execution_count": 30,
   "id": "c1254ac9",
   "metadata": {},
   "outputs": [],
   "source": [
    "ct=ColumnTransformer(transformers=[\n",
    "    ('tnf1',SimpleImputer(),['fever']),\n",
    "    ('tnf2',OrdinalEncoder(categories=[['Mild','Strong']]),['cough']),\n",
    "    ('tnf3',OneHotEncoder(sparse=False,drop='first'),['gender','city'])\n",
    "],remainder='passthrough')"
   ]
  },
  {
   "cell_type": "code",
   "execution_count": 31,
   "id": "e04448db",
   "metadata": {},
   "outputs": [
    {
     "data": {
      "text/plain": [
       "(80, 7)"
      ]
     },
     "execution_count": 31,
     "metadata": {},
     "output_type": "execute_result"
    }
   ],
   "source": [
    "ct.fit_transform(X_train).shape"
   ]
  },
  {
   "cell_type": "code",
   "execution_count": 32,
   "id": "ca5b30a2",
   "metadata": {},
   "outputs": [
    {
     "data": {
      "text/plain": [
       "(20, 7)"
      ]
     },
     "execution_count": 32,
     "metadata": {},
     "output_type": "execute_result"
    }
   ],
   "source": [
    "ct.fit_transform(X_test).shape"
   ]
  },
  {
   "cell_type": "code",
   "execution_count": null,
   "id": "f3102256",
   "metadata": {},
   "outputs": [],
   "source": []
  }
 ],
 "metadata": {
  "kernelspec": {
   "display_name": "Python 3 (ipykernel)",
   "language": "python",
   "name": "python3"
  },
  "language_info": {
   "codemirror_mode": {
    "name": "ipython",
    "version": 3
   },
   "file_extension": ".py",
   "mimetype": "text/x-python",
   "name": "python",
   "nbconvert_exporter": "python",
   "pygments_lexer": "ipython3",
   "version": "3.9.13"
  }
 },
 "nbformat": 4,
 "nbformat_minor": 5
}
